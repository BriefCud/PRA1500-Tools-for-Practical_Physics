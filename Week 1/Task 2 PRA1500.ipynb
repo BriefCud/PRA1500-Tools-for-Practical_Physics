{
 "cells": [
  {
   "cell_type": "code",
   "execution_count": 2,
   "metadata": {},
   "outputs": [],
   "source": [
    "# Imports\n",
    "import pandas as pd\n",
    "import numpy as np\n",
    "import matplotlib.pyplot as plt"
   ]
  },
  {
   "cell_type": "code",
   "execution_count": 3,
   "metadata": {},
   "outputs": [],
   "source": [
    "path = \"/Users/Alexander/Documents/MSP/PRA1500 Tools for Practical Physics/Session 1 - Intro to tools/Least Squares Analysis Data.csv\""
   ]
  },
  {
   "cell_type": "code",
   "execution_count": 23,
   "metadata": {},
   "outputs": [
    {
     "data": {
      "image/png": "[encoded data removed]",
      "text/plain": [
       "<Figure size 432x288 with 1 Axes>"
      ]
     },
     "metadata": {
      "needs_background": "light"
     },
     "output_type": "display_data"
    },
    {
     "name": "stdout",
     "output_type": "stream",
     "text": [
      "Root Mean Square Error:  342.2836297317859\n",
      "R squared:  0.9976325063632039\n",
      "Gradient:  1015.0413043478261\n",
      "y-intercept:  -18638.134057971016\n",
      "The error in the gradient is  10.542205776003259\n",
      "The error in the y-intercept is  350.3069915282229\n",
      "The percentage error in the gradient is  1.0385986984812139\n",
      "The percentage error in the y-intercept is  1.8795175012619156\n"
     ]
    }
   ],
   "source": [
    "def Least_Squares_Analysis(path,dependant,independant,lower,upper):\n",
    "    \n",
    "    covid_data = pd.read_csv(path)\n",
    "        \n",
    "    # Setting the x and y arrays and getting rid of the first 20 data points\n",
    "    y = covid_data[dependant].values[lower:upper]\n",
    "    x = covid_data[independant].values[lower:upper]\n",
    "    \n",
    "    # Calculating their mean\n",
    "    x_mean = np.mean(x)\n",
    "    y_mean = np.mean(y)\n",
    "    \n",
    "    n = len(x)\n",
    "    \n",
    "    numerator = 0\n",
    "    denomenator = 0\n",
    "    #Calculating the gradient and the y-interept\n",
    "    for i in range(n):\n",
    "        numerator += (x[i] - x_mean) * (y[i] - y_mean)\n",
    "        denomenator += (x[i] - x_mean)**2\n",
    "        m = numerator / denomenator\n",
    "        c = y_mean - (m * x_mean)\n",
    "    \n",
    "    max_x = np.max(x) + 10\n",
    "    min_x = np.min(x) - 10\n",
    "    \n",
    "    lin = np.linspace(min_x,max_x,1000)\n",
    "    curve = m * lin + c\n",
    "    \n",
    "    # Calculating Root Mean Squares Error\n",
    "    rmse = 0\n",
    "    for i in range(n):\n",
    "        y_pred = c + m * x[i]\n",
    "        rmse += (y[i] - y_pred) ** 2\n",
    "    rmse = np.sqrt(rmse/n)\n",
    "    \n",
    "    # Calculating R^2 Score\n",
    "    ss_tot = 0\n",
    "    ss_res = 0\n",
    "    for i in range(n):\n",
    "        y_pred = c + m * x[i]\n",
    "        ss_tot += (y[i] - y_mean) ** 2\n",
    "        ss_res += (y[i] - y_pred) ** 2\n",
    "    r2 = 1 - (ss_res/ss_tot)\n",
    "    \n",
    "    # Calculating the error for the gradient and y-intercept\n",
    "    s = np.sqrt((ss_tot-m*numerator)/(n-2))\n",
    "    error_gradient = s/np.sqrt(denomenator)\n",
    "    error_intercept = s*np.sqrt((1/n) + (x_mean**2)/denomenator)\n",
    "\n",
    "    \n",
    "    return lin,curve,x,y,rmse,r2,m,c,error_gradient,error_intercept\n",
    "    \n",
    "\n",
    "# independant = input(\"What's the column name for the independant variable? \")\n",
    "# dependant = input(\"What's the column name for the dependant variable? \")\n",
    "# lower_limit = int(input(\"From which index do you want to start the regression? \"))\n",
    "# upper_limit = int(input(\"Which index do you want the regression to finish on? \"))\n",
    "independant = \"Days Since 5th Case\"\n",
    "dependant = \"Total Cases\"\n",
    "lower_limit = 0\n",
    "upper_limit = 24\n",
    "\n",
    "# Ploting Line\n",
    "x,y,X,Y,rmse,r2,m,c,error_m,error_c = Least_Squares_Analysis(path,dependant,independant,lower_limit,upper_limit)\n",
    "\n",
    "\n",
    "plt.plot(x, y, color='#58b970', label='Regression Line')\n",
    "# Ploting Scatter Points\n",
    "plt.scatter(X, Y, c='#ef5423', label='Scatter Plot')\n",
    "\n",
    "plt.xlabel('Days Since 5th Cases')\n",
    "plt.ylabel('Total Cases')\n",
    "plt.legend()\n",
    "plt.show()\n",
    "print(\"Root Mean Square Error: \",rmse)\n",
    "print(\"R squared: \",r2)\n",
    "print(\"Gradient: \",m)\n",
    "print(\"y-intercept: \",c)\n",
    "print(\"The error in the gradient is \",error_m)\n",
    "print(\"The error in the y-intercept is \",error_c)\n",
    "print(\"The percentage error in the gradient is \",(error_m/m)*100)\n",
    "if (c < 0):\n",
    "    print(\"The percentage error in the y-intercept is \",(error_c/c)*-100)\n",
    "else:\n",
    "    print(\"The percentage error in the y-intercept is \",(error_c/c)*100)"
   ]
  },
  {
   "cell_type": "code",
   "execution_count": null,
   "metadata": {},
   "outputs": [],
   "source": []
  }
 ],
 "metadata": {
  "kernelspec": {
   "display_name": "Python 3",
   "language": "python",
   "name": "python3"
  },
  "language_info": {
   "codemirror_mode": {
    "name": "ipython",
    "version": 3
   },
   "file_extension": ".py",
   "mimetype": "text/x-python",
   "name": "python",
   "nbconvert_exporter": "python",
   "pygments_lexer": "ipython3",
   "version": "3.7.4"
  }
 },
 "nbformat": 4,
 "nbformat_minor": 2
}
